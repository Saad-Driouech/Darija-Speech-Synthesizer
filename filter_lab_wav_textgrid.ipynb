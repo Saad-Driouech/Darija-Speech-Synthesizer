{
  "nbformat": 4,
  "nbformat_minor": 0,
  "metadata": {
    "colab": {
      "name": "filter lab wav textgrid.ipynb",
      "provenance": []
    },
    "kernelspec": {
      "name": "python3",
      "display_name": "Python 3"
    },
    "language_info": {
      "name": "python"
    }
  },
  "cells": [
    {
      "cell_type": "code",
      "execution_count": null,
      "metadata": {
        "id": "Pv_C78qbk5wX"
      },
      "outputs": [],
      "source": [
        "import os\n",
        "import shutil\n",
        "import re"
      ]
    },
    {
      "cell_type": "code",
      "source": [
        "from google.colab import drive\n",
        "drive.mount('/content/drive')"
      ],
      "metadata": {
        "colab": {
          "base_uri": "https://localhost:8080/"
        },
        "id": "wbxixfYolicD",
        "outputId": "468681ee-e818-4046-dea8-0673c72546f2"
      },
      "execution_count": null,
      "outputs": [
        {
          "output_type": "stream",
          "name": "stdout",
          "text": [
            "Mounted at /content/drive\n"
          ]
        }
      ]
    },
    {
      "cell_type": "code",
      "source": [
        "path = '/content/drive/MyDrive/data5'\n",
        "files = os.listdir(path)\n",
        "# print(files)\n",
        "# print(len(files))\n",
        "labs = []\n",
        "textgrids = []\n",
        "for f in files:\n",
        "  if f.split(\".\")[1] == \"lab\":\n",
        "    labs.append(f.split(\".\")[0])\n",
        "  \n",
        "  if f.split(\".\")[1] == \"TextGrid\":\n",
        "    textgrids.append(f.split(\".\")[0])\n",
        "\n",
        "for filename in labs:\n",
        "  if filename not in textgrids:\n",
        "    # print(filename)\n",
        "    os.remove(path + \"/\" + filename + '.lab')\n",
        "    os.remove(path + \"/\" + filename + '.wav')\n",
        "\n",
        "# files = os.listdir(path)\n",
        "# print(len(files))\n",
        "\n",
        "# print(labs)"
      ],
      "metadata": {
        "id": "WLmLFRQsk_U5"
      },
      "execution_count": null,
      "outputs": []
    },
    {
      "cell_type": "code",
      "source": [
        "labpath = '/content/drive/MyDrive/new_data/lab'\n",
        "wavpath = '/content/drive/MyDrive/new_data/wav'\n",
        "TextGridpath = '/content/drive/MyDrive/new_data/TextGrid'\n",
        "\n",
        "num_wav = 0\n",
        "files = os.listdir(path)\n",
        "for f in files:\n",
        "  if f.split(\".\")[1] == \"lab\":\n",
        "    shutil.copy(path+'/'+f, labpath+'/'+f)\n",
        "  \n",
        "  if f.split(\".\")[1] == \"TextGrid\":\n",
        "    shutil.copy(path+'/'+f, TextGridpath+'/'+f)\n",
        "  \n",
        "  if f.split(\".\")[1] == \"wav\":\n",
        "    num_wav+=1\n",
        "    shutil.copy(path+'/'+f, wavpath+'/'+f)\n",
        "  "
      ],
      "metadata": {
        "id": "JbYTkgwCplka"
      },
      "execution_count": null,
      "outputs": []
    },
    {
      "cell_type": "code",
      "source": [
        "# checking that all the folders have the same number of files\n",
        "lab_files = os.listdir('/content/drive/MyDrive/new_data/lab')\n",
        "wav_files = os.listdir('/content/drive/MyDrive/new_data/wav')\n",
        "TG_files = os.listdir('/content/drive/MyDrive/new_data/TextGrid')\n",
        "print(\"the number of lab files: \", len(lab_files))\n",
        "print(\"the number of wav files: \", len(wav_files))\n",
        "print(\"the number of TG files: \", len(TG_files))"
      ],
      "metadata": {
        "colab": {
          "base_uri": "https://localhost:8080/"
        },
        "id": "fYHNxVi9e20M",
        "outputId": "fa6b4a0d-ac61-4c37-f23f-dd9b2f3e4326"
      },
      "execution_count": null,
      "outputs": [
        {
          "output_type": "stream",
          "name": "stdout",
          "text": [
            "the number of lab files:  2031\n",
            "the number of wav files:  2031\n",
            "the number of TG files:  2031\n"
          ]
        }
      ]
    }
  ]
}