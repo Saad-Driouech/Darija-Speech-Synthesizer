{
  "nbformat": 4,
  "nbformat_minor": 0,
  "metadata": {
    "colab": {
      "name": "Training FastSpeech2.ipynb",
      "provenance": [],
      "collapsed_sections": []
    },
    "kernelspec": {
      "name": "python3",
      "display_name": "Python 3"
    },
    "language_info": {
      "name": "python"
    },
    "accelerator": "GPU"
  },
  "cells": [
    {
      "cell_type": "code",
      "source": [
        "!nvidia-smi -L"
      ],
      "metadata": {
        "colab": {
          "base_uri": "https://localhost:8080/"
        },
        "id": "nWREIWCxD90t",
        "outputId": "4a31e945-8ded-40f9-d5a8-9dd2d9f842fd"
      },
      "execution_count": null,
      "outputs": [
        {
          "output_type": "stream",
          "name": "stdout",
          "text": [
            "GPU 0: Tesla P100-PCIE-16GB (UUID: GPU-cfcea8f2-5028-f291-43ef-3265aa37528c)\n"
          ]
        }
      ]
    },
    {
      "cell_type": "code",
      "source": [
        "from google.colab import drive\n",
        "drive.mount('/content/drive')"
      ],
      "metadata": {
        "id": "Mc8Mte9Puq0x",
        "colab": {
          "base_uri": "https://localhost:8080/"
        },
        "outputId": "0409ba57-6954-4797-db90-f51c0f4d82db"
      },
      "execution_count": null,
      "outputs": [
        {
          "output_type": "stream",
          "name": "stdout",
          "text": [
            "Mounted at /content/drive\n"
          ]
        }
      ]
    },
    {
      "cell_type": "code",
      "execution_count": null,
      "metadata": {
        "id": "pJjIbDDc1VB4"
      },
      "outputs": [],
      "source": [
        "# run only once unless you change the dataset even for the next training experiments\n",
        "\n",
        "import os \n",
        "base_dir = '/content/drive/MyDrive/new_data'\n",
        "lines = []\n",
        "for lab_file in os.listdir(f'{base_dir}/lab'):\n",
        "  lines.append(lab_file[:-4]+'|'+open(f'{base_dir}/lab/{lab_file}', 'r').read())\n",
        "\n",
        "\n",
        "open(f'{base_dir}/metadata.csv', 'w').write(('\\n').join(lines))"
      ]
    },
    {
      "cell_type": "code",
      "source": [
        "import os\n",
        "os.chdir(\"/content/drive/MyDrive/FastSpeech2\")"
      ],
      "metadata": {
        "id": "VyDerKKg011H"
      },
      "execution_count": null,
      "outputs": []
    },
    {
      "cell_type": "code",
      "source": [
        "%%capture\n",
        "!pip install -r requirementsNew.txt"
      ],
      "metadata": {
        "id": "sgg3Umlt1aMZ"
      },
      "execution_count": null,
      "outputs": []
    },
    {
      "cell_type": "code",
      "source": [
        "!python3 prepare_align.py config/Arabic/preprocess.yaml"
      ],
      "metadata": {
        "id": "-3cw_DA61iKI"
      },
      "execution_count": null,
      "outputs": []
    },
    {
      "cell_type": "code",
      "source": [
        "!python3 preprocess.py config/Arabic/preprocess.yaml"
      ],
      "metadata": {
        "id": "YXxChFzYZzWs"
      },
      "execution_count": null,
      "outputs": []
    },
    {
      "cell_type": "code",
      "source": [
        "# you don't have to run this cell since the link I provided you with already contains the vocoder zipped\n",
        "\n",
        "#!unzip hifigan/generator_LJSpeech.pth.tar.zip -d hifigan\n",
        "#!unzip hifigan/generator_universal.pth.tar.zip -d hifigan"
      ],
      "metadata": {
        "id": "50mbDNSh1mp5",
        "colab": {
          "base_uri": "https://localhost:8080/"
        },
        "outputId": "a6bfd318-b2b7-4f7d-9e6c-fddd7ab2bd52"
      },
      "execution_count": null,
      "outputs": [
        {
          "output_type": "stream",
          "name": "stdout",
          "text": [
            "unzip:  cannot find or open hifigan/generator_LJSpeech.pth.tar.zip, hifigan/generator_LJSpeech.pth.tar.zip.zip or hifigan/generator_LJSpeech.pth.tar.zip.ZIP.\n",
            "Archive:  hifigan/generator_universal.pth.tar.zip\n",
            "replace hifigan/generator_universal.pth.tar? [y]es, [n]o, [A]ll, [N]one, [r]ename: "
          ]
        }
      ]
    },
    {
      "cell_type": "code",
      "source": [
        "!python3 train.py --restore_step 300000 -p config/Arabic/preprocess.yaml -m config/Arabic/model.yaml -t config/Arabic/train.yaml"
      ],
      "metadata": {
        "id": "3QW5M7BR1ohe"
      },
      "execution_count": null,
      "outputs": []
    }
  ]
}