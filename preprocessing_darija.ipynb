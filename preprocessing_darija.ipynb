{
  "nbformat": 4,
  "nbformat_minor": 0,
  "metadata": {
    "colab": {
      "name": "preprocessing_darija.ipynb",
      "provenance": [],
      "collapsed_sections": []
    },
    "kernelspec": {
      "name": "python3",
      "display_name": "Python 3"
    },
    "language_info": {
      "name": "python"
    }
  },
  "cells": [
    {
      "cell_type": "code",
      "source": [
        "from google.colab import drive\n",
        "drive.mount('/content/drive')"
      ],
      "metadata": {
        "colab": {
          "base_uri": "https://localhost:8080/"
        },
        "id": "i2-dMzc_YuQl",
        "outputId": "d801d18b-3609-476f-d884-7bd19a7d7799"
      },
      "execution_count": null,
      "outputs": [
        {
          "output_type": "stream",
          "name": "stdout",
          "text": [
            "Drive already mounted at /content/drive; to attempt to forcibly remount, call drive.mount(\"/content/drive\", force_remount=True).\n"
          ]
        }
      ]
    },
    {
      "cell_type": "code",
      "source": [
        "import re\n",
        "import csv\n",
        "import os\n",
        "import argparse\n",
        "import codecs\n",
        "import json\n",
        "import requests\n",
        "\n",
        "# cd to the path of the raw dataset\n",
        "%cd /content/drive/MyDrive/dataset"
      ],
      "metadata": {
        "colab": {
          "base_uri": "https://localhost:8080/"
        },
        "id": "t7H7iBC1Y2M_",
        "outputId": "f70c05ff-08c0-4430-9513-33d819165657"
      },
      "execution_count": null,
      "outputs": [
        {
          "output_type": "stream",
          "name": "stdout",
          "text": [
            "/content/drive/MyDrive/dataset\n"
          ]
        }
      ]
    },
    {
      "cell_type": "code",
      "source": [
        "def diacritize(text):\n",
        "  url = 'https://farasa.qcri.org/webapi/seq2seq_diacritize/'\n",
        "  api_key = # your API key\n",
        "  dialect = \"mor\"\n",
        "  payload = {'text': text, 'api_key': api_key, \"dialect\": dialect}\n",
        "  data = requests.post(url, data=payload)\n",
        "  diacritized = json.loads(data.text)\n",
        "  return diacritized "
      ],
      "metadata": {
        "id": "clEkCGggbMYF"
      },
      "execution_count": null,
      "outputs": []
    },
    {
      "cell_type": "code",
      "source": [
        "# to not lose what has been diacritized when the diacritizer crashes (when an encountering a character that is not expected)\n",
        "rows = []"
      ],
      "metadata": {
        "id": "TO9eLiYUv-mT"
      },
      "execution_count": null,
      "outputs": []
    },
    {
      "cell_type": "code",
      "execution_count": null,
      "metadata": {
        "id": "edJ7fuIj0eup"
      },
      "outputs": [],
      "source": [
        "# diacritize\n",
        "i = 1\n",
        "with open('lefttodiacritize3.csv', 'r', encoding=\"utf-8\") as readFile:\n",
        "  reader = csv.reader(readFile)\n",
        "  for row in reader:\n",
        "    if (i >= 427 and row[0] != \"num\"):\n",
        "      # removing repeating characters\n",
        "      row[2] = re.sub(r'(.)\\1+', r'\\1\\1', row[2])\n",
        "\n",
        "      # dealing with ila hamza\n",
        "      pattern = \"\\u0627\\u0644\\u0649 \"\n",
        "      repl = \"\\u0625\\u0644\\u0649 \"\n",
        "      row[2] = re.sub(pattern, repl, row[2])\n",
        "\n",
        "      # removing punctuation marks\n",
        "      row[2] = re.sub(r'[؟!؛،.ـ():-_{}]', ' ', row[2])\n",
        "      # print(\"row2 \", row[2])\n",
        "      result = diacritize(row[2])\n",
        "      # print(\"result \", result[\"text\"])\n",
        "\n",
        "      row[2] = result[\"text\"]\n",
        "      rows.append(row)\n",
        "      # print(\"i \", i)\n",
        "    i += 1\n"
      ]
    },
    {
      "cell_type": "code",
      "source": [
        "# to keep track where the diacritizer crashed so that you can start from there and avoid starting from the beginning by changing the condition of i in the previous cell\n",
        "print(i)"
      ],
      "metadata": {
        "colab": {
          "base_uri": "https://localhost:8080/"
        },
        "id": "QnPvR2-aczuy",
        "outputId": "28fd2187-588c-4b90-d7b4-1bf75d1f0900"
      },
      "execution_count": null,
      "outputs": [
        {
          "output_type": "stream",
          "name": "stdout",
          "text": [
            "522\n"
          ]
        }
      ]
    },
    {
      "cell_type": "code",
      "source": [
        "with open(\"part3diacritized.csv\", \"w\", encoding=\"utf-8\") as writeFile:\n",
        "  writer = csv.writer(writeFile)\n",
        "  writer.writerows(rows)"
      ],
      "metadata": {
        "id": "Oet_7ZILFjvg"
      },
      "execution_count": null,
      "outputs": []
    },
    {
      "cell_type": "code",
      "source": [
        "def transliterate(text, abjad):\n",
        "  transliterated = \"\"\n",
        "  for char in text: \n",
        "    if char in abjad:\n",
        "      transliterated += str(abjad[char])\n",
        "    else:\n",
        "      transliterated += str(char)\n",
        "  return transliterated"
      ],
      "metadata": {
        "id": "KHbU84i2KYOq"
      },
      "execution_count": null,
      "outputs": []
    },
    {
      "cell_type": "code",
      "source": [
        "abjad = {u\"\\u0622\":'|', u\"\\u0627\":'A',\n",
        "         u\"\\u0628\":'b', u\"\\u062A\":'t', u\"\\u062B\":'v', u\"\\u062C\":'j',\n",
        "         u\"\\u062D\":'H', u\"\\u062E\":'x', u\"\\u062F\":'d', u\"\\u0630\":'*', \n",
        "         u\"\\u0631\":'r', u\"\\u0632\":'z', u\"\\u0633\":'s', u\"\\u0634\":'$', \n",
        "         u\"\\u0635\":'S', u\"\\u0636\":'D', u\"\\u0637\":'T', u\"\\u0638\":'Z', \n",
        "         u\"\\u0639\":'E', u\"\\u063A\":'g', u\"\\u0641\":'f', u\"\\u0642\":'q', \n",
        "         u\"\\u0643\":'k', u\"\\u0644\":'l', u\"\\u0645\":'m', u\"\\u0646\":'n',\n",
        "         u\"\\u0647\":'h', u\"\\u0648\":'w', u\"\\u0649\":'y', u\"\\u064A\":'y', \n",
        "         u\"\\u0629\":'p', u\"\\u0621\":'\\'', u\"\\u0623\":'>', u\"\\u0625\":'<', \n",
        "         u\"\\u0624\":'&', u\"\\u0626\":'}', u\"\\u0654\":'\\'', u\"\\u0655\":'\\'', \n",
        "         u\"\\u064B\":'F', u\"\\u064C\":'N', u\"\\u064D\":'K', u\"\\u064E\":'a', \n",
        "         u\"\\u064F\":'u', u\"\\u0650\":'i', u\"\\u0651\":'~', u\"\\u0652\":'o'}"
      ],
      "metadata": {
        "id": "rxBvol1DLJ_n"
      },
      "execution_count": null,
      "outputs": []
    },
    {
      "cell_type": "code",
      "source": [
        "# transliteration\n",
        "j = 1\n",
        "csv_rows = []\n",
        "with open('FirstTrain.csv', 'r', encoding=\"utf-8\") as readFile:\n",
        "  reader = csv.reader(readFile)\n",
        "  for row in reader:\n",
        "    if (j >= 1 and row[0] != \"num\"):\n",
        "      filename = row[3].split(\".\")[0]\n",
        "\n",
        "      row[2] = transliterate(row[2], abjad)\n",
        "\n",
        "      with open(f\"lab/{filename}.lab\", \"w\") as writeFile:\n",
        "        writeFile.write(row[2])\n",
        "        j+=1\n",
        "      \n",
        "      csv_rows.append(row)\n",
        "\n",
        "\n",
        "with open(\"transliterated.csv\", \"w\", encoding=\"utf-8\") as writeFile:\n",
        "  writer = csv.writer(writeFile)\n",
        "  writer.writerows(csv_rows)"
      ],
      "metadata": {
        "id": "nHTI0HL1KrhC"
      },
      "execution_count": null,
      "outputs": []
    }
  ]
}