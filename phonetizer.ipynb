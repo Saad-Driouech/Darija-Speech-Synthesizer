{
  "nbformat": 4,
  "nbformat_minor": 0,
  "metadata": {
    "colab": {
      "name": "nawar phonetizer.ipynb",
      "provenance": [],
      "collapsed_sections": []
    },
    "kernelspec": {
      "name": "python3",
      "display_name": "Python 3"
    },
    "language_info": {
      "name": "python"
    }
  },
  "cells": [
    {
      "cell_type": "code",
      "execution_count": null,
      "metadata": {
        "id": "GSLckbfzzEeL",
        "colab": {
          "base_uri": "https://localhost:8080/"
        },
        "outputId": "f4ce84cc-13f5-4e43-adbb-15d34b9404df"
      },
      "outputs": [
        {
          "output_type": "stream",
          "name": "stdout",
          "text": [
            "Mounted at drive\n"
          ]
        }
      ],
      "source": [
        "from google.colab import drive\n",
        "drive.mount('drive')"
      ]
    },
    {
      "cell_type": "code",
      "source": [
        "%cd drive/MyDrive"
      ],
      "metadata": {
        "id": "fYNsB2iv0hcl",
        "colab": {
          "base_uri": "https://localhost:8080/"
        },
        "outputId": "9871c75f-58a4-401b-d346-afbe97311a87"
      },
      "execution_count": null,
      "outputs": [
        {
          "output_type": "stream",
          "name": "stdout",
          "text": [
            "/content/drive/MyDrive\n"
          ]
        }
      ]
    },
    {
      "cell_type": "code",
      "source": [
        "# !git clone https://github.com/nawarhalabi/Arabic-Phonetiser.git"
      ],
      "metadata": {
        "id": "oNYlrjFK0jje",
        "colab": {
          "base_uri": "https://localhost:8080/"
        },
        "outputId": "9d018eef-5d62-4fa1-b1f0-c15738fb3a08"
      },
      "execution_count": null,
      "outputs": [
        {
          "output_type": "stream",
          "name": "stdout",
          "text": [
            "Cloning into 'Arabic-Phonetiser'...\n",
            "remote: Enumerating objects: 85, done.\u001b[K\n",
            "remote: Total 85 (delta 0), reused 0 (delta 0), pack-reused 85\u001b[K\n",
            "Unpacking objects: 100% (85/85), done.\n"
          ]
        }
      ]
    },
    {
      "cell_type": "code",
      "source": [
        "%cd Arabic-Phonetiser"
      ],
      "metadata": {
        "id": "dfJ-h_u-00Xi",
        "colab": {
          "base_uri": "https://localhost:8080/"
        },
        "outputId": "ab37a5d9-185a-4651-f50c-4e7949067fb0"
      },
      "execution_count": null,
      "outputs": [
        {
          "output_type": "stream",
          "name": "stdout",
          "text": [
            "/content/drive/MyDrive/Arabic-Phonetiser\n"
          ]
        }
      ]
    },
    {
      "cell_type": "code",
      "source": [
        "import csv\n",
        "path = '/content/drive/MyDrive/dataset/transliterated.csv'\n",
        "with open(path, 'r', encoding=\"utf-8\") as readFile:\n",
        "  reader = csv.reader(readFile)\n",
        "\n",
        "  # be careful write mode\n",
        "  with open(\"/content/drive/MyDrive/dataset/transliterated.txt\", \"w\", encoding=\"utf-8\") as outf:\n",
        "    for row in reader:\n",
        "      if row[2] != \"sentence\":\n",
        "        line = row[3].split(\".\")[0] + \" | \" + row[2] + \"\\n\"\n",
        "        # print(line)\n",
        "        outf.write(line)"
      ],
      "metadata": {
        "id": "Ltocd0YD_A5O"
      },
      "execution_count": null,
      "outputs": []
    },
    {
      "cell_type": "code",
      "source": [
        "!python3 phonetise-Buckwalter.py /content/drive/MyDrive/dataset/transliterated.txt"
      ],
      "metadata": {
        "id": "xk4xHvh_-q49"
      },
      "execution_count": null,
      "outputs": []
    },
    {
      "cell_type": "code",
      "source": [
        "!python3 sortandfilter.py /content/drive/MyDrive/Arabic-Phonetiser/dict"
      ],
      "metadata": {
        "id": "mpndMXeYhglm"
      },
      "execution_count": null,
      "outputs": []
    },
    {
      "cell_type": "markdown",
      "source": [
        "**Stop at this stage for phonetization. Run the following cells after getting the OOV from the aligner**"
      ],
      "metadata": {
        "id": "vBJaRAXoldkJ"
      }
    },
    {
      "cell_type": "code",
      "source": [
        "# upload OOV as returned by the aligner to the a folder before running this cell\n",
        "!python3 phonetiseOOV.py /content/drive/MyDrive/Arabic-Phonetiser/OOV.txt"
      ],
      "metadata": {
        "id": "ZNWAGFvZOj2b"
      },
      "execution_count": null,
      "outputs": []
    },
    {
      "cell_type": "code",
      "source": [
        "# merge dict with oov before running\n",
        "!python3 sortandfilter.py /content/drive/MyDrive/Arabic-Phonetiser/darija.dict"
      ],
      "metadata": {
        "id": "mMvWYqVmEhNJ"
      },
      "execution_count": null,
      "outputs": []
    }
  ]
}