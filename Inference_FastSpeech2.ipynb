{
  "cells": [
    {
      "cell_type": "markdown",
      "metadata": {
        "id": "2a4ADJpsCqDl"
      },
      "source": [
        "### Clone the library "
      ]
    },
    {
      "cell_type": "code",
      "execution_count": null,
      "metadata": {
        "colab": {
          "base_uri": "https://localhost:8080/"
        },
        "id": "dIzutdHEixaq",
        "outputId": "f0133e8e-6e86-4669-d02d-02535ec94d52"
      },
      "outputs": [
        {
          "output_type": "stream",
          "name": "stdout",
          "text": [
            "GPU 0: Tesla P100-PCIE-16GB (UUID: GPU-e03c41dc-6def-1c28-baf8-06b03d602475)\n"
          ]
        }
      ],
      "source": [
        "!nvidia-smi -L"
      ]
    },
    {
      "cell_type": "code",
      "execution_count": null,
      "metadata": {
        "colab": {
          "base_uri": "https://localhost:8080/"
        },
        "id": "dSfQNjkGqekt",
        "outputId": "c1c55d83-99ef-45fa-dc6d-e5eda4e80c42"
      },
      "outputs": [
        {
          "output_type": "stream",
          "name": "stdout",
          "text": [
            "Mounted at drive\n"
          ]
        }
      ],
      "source": [
        "from google.colab import drive\n",
        "drive.mount('drive')"
      ]
    },
    {
      "cell_type": "code",
      "execution_count": null,
      "metadata": {
        "colab": {
          "base_uri": "https://localhost:8080/"
        },
        "id": "rH28mKmu2ULK",
        "outputId": "6576ee8c-4e0d-48d8-b6c2-307cb4772578"
      },
      "outputs": [
        {
          "output_type": "stream",
          "name": "stdout",
          "text": [
            "/content/drive/MyDrive\n"
          ]
        }
      ],
      "source": [
        "%cd drive/MyDrive"
      ]
    },
    {
      "cell_type": "code",
      "execution_count": null,
      "metadata": {
        "colab": {
          "base_uri": "https://localhost:8080/"
        },
        "id": "GMKkKzat39W7",
        "outputId": "8690f9d9-01b7-4085-dccb-dc7dddc30e42"
      },
      "outputs": [
        {
          "output_type": "stream",
          "name": "stdout",
          "text": [
            "/content/drive/MyDrive/klaam\n"
          ]
        }
      ],
      "source": [
        "%cd klaam"
      ]
    },
    {
      "cell_type": "markdown",
      "metadata": {
        "id": "3VVt6RsLCtze"
      },
      "source": [
        "### Install dependencies "
      ]
    },
    {
      "cell_type": "code",
      "execution_count": null,
      "metadata": {
        "id": "FZQ3-QNw0c7C"
      },
      "outputs": [],
      "source": [
        "%%capture\n",
        "!pip install -r requirements.txt"
      ]
    },
    {
      "cell_type": "markdown",
      "metadata": {
        "id": "eeqRCQh0mvoq"
      },
      "source": [
        "### Text to Speech"
      ]
    },
    {
      "cell_type": "code",
      "execution_count": null,
      "metadata": {
        "colab": {
          "base_uri": "https://localhost:8080/"
        },
        "id": "lO6z7Vp62XMa",
        "outputId": "6bafb88f-c9c4-48cc-abaf-615dcb175dfe"
      },
      "outputs": [
        {
          "output_type": "stream",
          "name": "stdout",
          "text": [
            "/content/drive/MyDrive/klaam\n"
          ]
        }
      ],
      "source": [
        "# don't run always\n",
        "%cd /content/drive/MyDrive/klaam"
      ]
    },
    {
      "cell_type": "code",
      "execution_count": null,
      "metadata": {
        "id": "QbldcmoBaM9g"
      },
      "outputs": [],
      "source": [
        "from klaam import TextToSpeech\n",
        "from IPython.display import Audio\n",
        "\n",
        "model = TextToSpeech()\n",
        "model.synthesize(\"زِينْ العَابِدِينْ وَاخَّا اقْنْعْتِينِي كِيفْ عَادْتْكْ وَ لَكِنْ بْخُصُوصْ الْأَعْمَالْ الشَّاقَة وَاشْ بْالصَّحْ كَاتْبَرْزْطِي\")\n",
        "Audio(\"sample.wav\")"
      ]
    },
    {
      "cell_type": "code",
      "execution_count": null,
      "metadata": {
        "id": "v1vrRowOBDTH"
      },
      "outputs": [],
      "source": [
        "from klaam import TextToSpeech\n",
        "from IPython.display import Audio\n",
        "\n",
        "model = TextToSpeech()\n",
        "model.synthesize(\"زِينْ الْعَابِدِينْ سَلَامْ\")\n",
        "Audio(\"sample.wav\")"
      ]
    },
    {
      "cell_type": "code",
      "execution_count": null,
      "metadata": {
        "id": "FKjMdNoDBbY1"
      },
      "outputs": [],
      "source": [
        "from klaam import TextToSpeech\n",
        "from IPython.display import Audio\n",
        "\n",
        "model = TextToSpeech()\n",
        "model.synthesize(\"خْرَجْ فِيهَا عِينُو وْ هِيَ تْنُوضْ\")\n",
        "Audio(\"sample.wav\")"
      ]
    },
    {
      "cell_type": "code",
      "execution_count": null,
      "metadata": {
        "id": "xE4MA9NF9r9_"
      },
      "outputs": [],
      "source": [
        "from klaam import TextToSpeech\n",
        "from IPython.display import Audio\n",
        "\n",
        "model = TextToSpeech()\n",
        "model.synthesize(\"زْيَادْ بَاقِي مَابَانْ وَالُو.\")\n",
        "Audio(\"sample.wav\")"
      ]
    },
    {
      "cell_type": "code",
      "execution_count": null,
      "metadata": {
        "id": "LFch3AFqSbU2"
      },
      "outputs": [],
      "source": [
        "from klaam import TextToSpeech\n",
        "from IPython.display import Audio\n",
        "\n",
        "model = TextToSpeech()\n",
        "model.synthesize(\"زْيَادْ لَّا مْسَالِي لْخُويَا غِيرْ طْلَقْ\")\n",
        "Audio(\"sample.wav\")"
      ]
    },
    {
      "cell_type": "code",
      "source": [
        "from klaam import TextToSpeech\n",
        "from IPython.display import Audio\n",
        "\n",
        "model = TextToSpeech()\n",
        "model.synthesize(\"مَرَامْ لَبَاسْ عْلِيكْ\")\n",
        "Audio(\"sample.wav\")"
      ],
      "metadata": {
        "id": "aCSxyQhT8rHx"
      },
      "execution_count": null,
      "outputs": []
    },
    {
      "cell_type": "code",
      "execution_count": null,
      "metadata": {
        "id": "qmhMOow8SyVr"
      },
      "outputs": [],
      "source": [
        "from klaam import TextToSpeech\n",
        "from IPython.display import Audio\n",
        "\n",
        "model = TextToSpeech()\n",
        "model.synthesize(\"مَرَامْ شْكُونْ هَادِي\")\n",
        "Audio(\"sample.wav\")"
      ]
    },
    {
      "cell_type": "code",
      "execution_count": null,
      "metadata": {
        "id": "3jIH4PFxAT27"
      },
      "outputs": [],
      "source": [
        "from klaam import TextToSpeech\n",
        "from IPython.display import Audio\n",
        "\n",
        "model = TextToSpeech()\n",
        "model.synthesize(\"مَرَامْ شْنُو كَدِيرْ\")\n",
        "Audio(\"sample.wav\")"
      ]
    },
    {
      "cell_type": "code",
      "source": [
        "from klaam import TextToSpeech\n",
        "from IPython.display import Audio\n",
        "\n",
        "model = TextToSpeech()\n",
        "model.synthesize(\"مَرَامْ بْالصّْحَّة وْالرَّاحَة\")\n",
        "Audio(\"sample.wav\")"
      ],
      "metadata": {
        "id": "emBNkR3pER6w"
      },
      "execution_count": null,
      "outputs": []
    },
    {
      "cell_type": "code",
      "source": [
        "from klaam import TextToSpeech\n",
        "from IPython.display import Audio\n",
        "\n",
        "model = TextToSpeech()\n",
        "model.synthesize(\"مَرَامْ غَتْمْشِي دَابَا\")\n",
        "Audio(\"sample.wav\")"
      ],
      "metadata": {
        "id": "yGcy_wEvKL2e"
      },
      "execution_count": null,
      "outputs": []
    },
    {
      "cell_type": "code",
      "source": [
        "from klaam import TextToSpeech\n",
        "from IPython.display import Audio\n",
        "\n",
        "model = TextToSpeech()\n",
        "model.synthesize(\"بَهَاءْ بْابْتِسَامَة الْحَمْدُ لْلَّهْ رَاهَا مْزْيَانَة\")\n",
        "Audio(\"sample.wav\")"
      ],
      "metadata": {
        "id": "oWWOBvTINI7k"
      },
      "execution_count": null,
      "outputs": []
    },
    {
      "cell_type": "code",
      "source": [
        "from klaam import TextToSpeech\n",
        "from IPython.display import Audio\n",
        "\n",
        "model = TextToSpeech()\n",
        "model.synthesize(\"يُسْرَى شَافْتْ فْمَرَامْ وَاقِيلَا\")\n",
        "Audio(\"sample.wav\")"
      ],
      "metadata": {
        "id": "zOe58uIUNayr"
      },
      "execution_count": null,
      "outputs": []
    },
    {
      "cell_type": "code",
      "source": [
        "from klaam import TextToSpeech\n",
        "from IPython.display import Audio\n",
        "\n",
        "model = TextToSpeech()\n",
        "model.synthesize(\"مْحَمّْدْ بْقَا مْعَايَا\")\n",
        "Audio(\"sample.wav\")"
      ],
      "metadata": {
        "id": "nimvvRgPM851"
      },
      "execution_count": null,
      "outputs": []
    },
    {
      "cell_type": "code",
      "source": [
        "from klaam import TextToSpeech\n",
        "from IPython.display import Audio\n",
        "\n",
        "model = TextToSpeech()\n",
        "model.synthesize(\"زْيَادْ عِينِيَّا كَيْتّْلَصْقُو\")\n",
        "Audio(\"sample.wav\")"
      ],
      "metadata": {
        "id": "cryodKU6U4SI"
      },
      "execution_count": null,
      "outputs": []
    },
    {
      "cell_type": "code",
      "source": [
        "from klaam import TextToSpeech\n",
        "from IPython.display import Audio\n",
        "\n",
        "model = TextToSpeech()\n",
        "model.synthesize(\"بَهَاءْ هَادْشِّي لِيَّ سْمَعْتْ\")\n",
        "Audio(\"sample.wav\")"
      ],
      "metadata": {
        "id": "Xmy0XjH3BJfr"
      },
      "execution_count": null,
      "outputs": []
    },
    {
      "cell_type": "code",
      "source": [
        "from klaam import TextToSpeech\n",
        "from IPython.display import Audio\n",
        "\n",
        "model = TextToSpeech()\n",
        "model.synthesize(\"شِيمَاءْ أَوِيلِي حِيتْ حَامْلَة\")\n",
        "Audio(\"sample.wav\")"
      ],
      "metadata": {
        "id": "GqasskDgXRpb"
      },
      "execution_count": null,
      "outputs": []
    },
    {
      "cell_type": "code",
      "source": [
        "from klaam import TextToSpeech\n",
        "from IPython.display import Audio\n",
        "\n",
        "model = TextToSpeech()\n",
        "model.synthesize(\"زْيَادْ لَّا طْلَقْ دْغْيَا\")\n",
        "Audio(\"sample.wav\")"
      ],
      "metadata": {
        "id": "drdTdMiGg8ED"
      },
      "execution_count": null,
      "outputs": []
    },
    {
      "cell_type": "code",
      "source": [
        "from klaam import TextToSpeech\n",
        "from IPython.display import Audio\n",
        "\n",
        "model = TextToSpeech()\n",
        "model.synthesize(\"أَلَاءْ لَاءْ دَاكْشِّي مَاشِي السّْتِيلْ دْيَالِي\")\n",
        "Audio(\"sample.wav\")"
      ],
      "metadata": {
        "id": "HwqDVU71tj7K"
      },
      "execution_count": null,
      "outputs": []
    }
  ],
  "metadata": {
    "accelerator": "GPU",
    "colab": {
      "collapsed_sections": [],
      "name": "Inference FastSpeech2.ipynb",
      "provenance": []
    },
    "kernelspec": {
      "display_name": "Python 3",
      "language": "python",
      "name": "python3"
    }
  },
  "nbformat": 4,
  "nbformat_minor": 0
}